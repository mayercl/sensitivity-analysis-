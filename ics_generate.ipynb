{
 "cells": [
  {
   "cell_type": "code",
   "execution_count": 3,
   "id": "db488921",
   "metadata": {},
   "outputs": [],
   "source": [
    "from copy import deepcopy\n",
    "import numpy as np\n",
    "import matplotlib.pyplot as plt\n",
    "from jax import grad, jit, jacfwd, jacrev\n",
    "import jax.numpy as jnp\n",
    "\n",
    "# import the needed modules \n",
    "from hessian_normalized import HessianCircadian\n",
    "from hessian_normalized import Actogram\n",
    "from hessian_normalized import ParameterRecovery\n",
    "from lightschedules import RegularLight\n",
    "from lightschedules import ShiftWorkLight\n",
    "from lightschedules import ShiftWorkerThreeTwelves\n",
    "from lightschedules import SocialJetLag\n",
    "from lightschedules import SlamShift\n",
    "\n",
    "sens=HessianCircadian()\n",
    "params = sens.get_parameters_array()\n",
    "\n",
    "# define the light schedules \n",
    "ndays = 7\n",
    "intensity = 979\n",
    "ts=np.arange(0, 24*ndays, 0.1)\n",
    "lights_rl = jnp.array([RegularLight(t, Intensity = intensity) for t in ts ]) # define the light schedules \n",
    "lights_sw = jnp.array([ShiftWorkLight(t,Intensity = intensity) for t in ts ])\n",
    "lights_sw312 = jnp.array([ShiftWorkerThreeTwelves(t,Intensity = intensity) for t in ts ])\n",
    "lights_sjl = jnp.array([SocialJetLag(t,Intensity = intensity) for t in ts ])\n",
    "lights_ss = jnp.array([SlamShift(t,Intensity = intensity) for t in ts ])\n",
    "lights_dark = jnp.zeros([len(ts),])"
   ]
  },
  {
   "cell_type": "code",
   "execution_count": 4,
   "id": "46f65116",
   "metadata": {},
   "outputs": [],
   "source": [
    "def ics_individual_schedules(final_state_diff, convergence_val, ics, lights, params):\n",
    "    u0 = ics\n",
    "    count = 0\n",
    "    while final_state_diff > convergence_val and count < 50:\n",
    "\n",
    "        # simulate the model and extract the final time as the initial condition\n",
    "        count = count + 1\n",
    "        statesfinal = sens.step_n(u0 = u0, light = lights, params = params, dt = 0.10) # final state value\n",
    "        final_state_diff = abs(statesfinal[0] - u0[0]) + abs(np.mod(statesfinal[1] - u0[1] + np.pi,2*np.pi) - np.pi)\n",
    "        #print(final_state_diff)\n",
    "        u0 = statesfinal\n",
    "    return u0\n",
    "\n",
    "# generate the initial conditions for the individual schedules \n",
    "convergence_val = 10**(-3)\n",
    "final_state_diff = 100\n",
    "ics = jnp.array([0.70,0.0,0.0])\n",
    "ics_rl = ics_individual_schedules(final_state_diff, convergence_val, ics, lights_rl, params) # look into mod 2pi phase \n",
    "ics_sw = ics_individual_schedules(final_state_diff, convergence_val, ics, lights_sw, params)\n",
    "ics_sw312 = ics_individual_schedules(final_state_diff, convergence_val, ics, lights_sw312, params)\n",
    "ics_sjl = ics_individual_schedules(final_state_diff, convergence_val, ics, lights_sjl, params)\n",
    "ics_ss = ics_individual_schedules(final_state_diff, convergence_val, ics, lights_ss, params)\n",
    "ics_dark = ics_individual_schedules(final_state_diff, convergence_val, ics, lights_dark, params)"
   ]
  },
  {
   "cell_type": "code",
   "execution_count": 5,
   "id": "84d42478",
   "metadata": {},
   "outputs": [
    {
     "name": "stdout",
     "output_type": "stream",
     "text": [
      "Stored 'ics_rl' (DeviceArray)\n",
      "Stored 'ics_sw' (DeviceArray)\n",
      "Stored 'ics_sw312' (DeviceArray)\n",
      "Stored 'ics_sjl' (DeviceArray)\n",
      "Stored 'ics_ss' (DeviceArray)\n",
      "Stored 'ics_dark' (DeviceArray)\n"
     ]
    }
   ],
   "source": [
    "# store the ics \n",
    "%store ics_rl\n",
    "%store ics_sw\n",
    "%store ics_sw312\n",
    "%store ics_sjl\n",
    "%store ics_ss\n",
    "%store ics_dark"
   ]
  },
  {
   "cell_type": "code",
   "execution_count": null,
   "id": "258c112f",
   "metadata": {},
   "outputs": [],
   "source": []
  }
 ],
 "metadata": {
  "kernelspec": {
   "display_name": "Python 3",
   "language": "python",
   "name": "python3"
  },
  "language_info": {
   "codemirror_mode": {
    "name": "ipython",
    "version": 3
   },
   "file_extension": ".py",
   "mimetype": "text/x-python",
   "name": "python",
   "nbconvert_exporter": "python",
   "pygments_lexer": "ipython3",
   "version": "3.8.8"
  }
 },
 "nbformat": 4,
 "nbformat_minor": 5
}
