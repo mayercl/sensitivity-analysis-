{
 "cells": [
  {
   "cell_type": "markdown",
   "id": "0aab68f1",
   "metadata": {},
   "source": [
    "## Generate Figure 1, for sensitivity analysis manuscript\n",
    "In this notebook, we generate the first figure (a methods/schematic figure) in the sensitivity analysis manuscript. \n",
    "\n",
    "This figure has three main components: actograms of the synthetic light schedules we consider, a parameter perturbation schematic, and examples of variations in the model state outputs based on different parameter values. We generate each of these components in the following sections. "
   ]
  },
  {
   "cell_type": "markdown",
   "id": "15276cda",
   "metadata": {},
   "source": [
    "## First, generate the actograms\n",
    "We plot a graphical representation of the simulated light and darkness schedule. We show one example schedule below, but this can be interactively changed to show actograms for any of the six schedules considered. \n",
    "\n",
    "First, we import the neccesary modules and define the light schedules."
   ]
  },
  {
   "cell_type": "code",
   "execution_count": 6,
   "id": "ba51a15e",
   "metadata": {},
   "outputs": [],
   "source": [
    "# here we run the neccesary helper functions for the actogram\n",
    "from copy import deepcopy\n",
    "import numpy as np\n",
    "import matplotlib.pyplot as plt\n",
    "from jax import grad, jit, jacfwd, jacrev\n",
    "import jax.numpy as jnp\n",
    "\n",
    "from hessian_normalized import Actogram\n",
    "from hessian_normalized import HessianCircadian\n",
    "\n",
    "sens=HessianCircadian()\n",
    "params = sens.get_parameters_array()\n",
    "\n",
    "# define the light schedules \n",
    "from lightschedules import RegularLight\n",
    "from lightschedules import ShiftWorkLight\n",
    "from lightschedules import ShiftWorkerThreeTwelves\n",
    "from lightschedules import SocialJetLag\n",
    "from lightschedules import SlamShift\n",
    "\n",
    "ndays = 7\n",
    "intensity = 979\n",
    "dt = 0.1\n",
    "ts=np.arange(0, 24*ndays, dt)\n",
    "lights_rl = jnp.array([RegularLight(t, Intensity = intensity) for t in ts ]) # define the light schedules \n",
    "lights_sw = jnp.array([ShiftWorkLight(t,Intensity = intensity) for t in ts ])\n",
    "lights_sw312 = jnp.array([ShiftWorkerThreeTwelves(t,Intensity = intensity) for t in ts ])\n",
    "lights_sjl = jnp.array([SocialJetLag(t,Intensity = intensity) for t in ts ])\n",
    "lights_ss = jnp.array([SlamShift(t,Intensity = intensity) for t in ts ])\n",
    "lights_dark = jnp.zeros([len(ts),])"
   ]
  },
  {
   "cell_type": "markdown",
   "id": "76b25e77",
   "metadata": {},
   "source": [
    "Next, we use the light schedules computed previously the generate the actogram. See hessian_normalized.py for more details on the actogram plot construction. "
   ]
  },
  {
   "cell_type": "code",
   "execution_count": 7,
   "id": "92f83fde",
   "metadata": {},
   "outputs": [
    {
     "data": {
      "text/plain": [
       "<hessian_normalized.Actogram at 0x7fc562ca23a0>"
      ]
     },
     "execution_count": 7,
     "metadata": {},
     "output_type": "execute_result"
    },
    {
     "data": {
      "image/png": "[encoded data removed]",
      "text/plain": [
       "<Figure size 432x288 with 1 Axes>"
      ]
     },
     "metadata": {
      "needs_background": "light"
     },
     "output_type": "display_data"
    }
   ],
   "source": [
    "# here we generate the actogram plot: change light_schedule to the other light schedules to see all the plots\n",
    "light_schedule = lights_rl\n",
    "Actogram(ts, light_schedule)"
   ]
  },
  {
   "cell_type": "markdown",
   "id": "f05cbab4",
   "metadata": {},
   "source": [
    "We see a double-plotted actogram here, for one of the six schedules of interest. Change the light_schedule parameter to see results from the other light schedules. "
   ]
  },
  {
   "cell_type": "markdown",
   "id": "a793b4ae",
   "metadata": {},
   "source": [
    "## Next, generate the parameter perturbations \n",
    "Here we get the default parameter values via the HessianCircadian module in hessian_normalized.py. For this methods figure, we plot an example of one of the parameters being varied. Note that this specific variation is not used to generate results later in the manuscript, but rather to demonstrate the methodology. \n",
    "\n",
    "For visual purposes, we plot the log of the parameter values. "
   ]
  },
  {
   "cell_type": "code",
   "execution_count": 8,
   "id": "a336b38a",
   "metadata": {},
   "outputs": [
    {
     "data": {
      "image/png": "[encoded data removed]",
      "text/plain": [
       "<Figure size 432x288 with 1 Axes>"
      ]
     },
     "metadata": {
      "needs_background": "light"
     },
     "output_type": "display_data"
    },
    {
     "data": {
      "image/png": "[encoded data removed]",
      "text/plain": [
       "<Figure size 432x288 with 1 Axes>"
      ]
     },
     "metadata": {
      "needs_background": "light"
     },
     "output_type": "display_data"
    }
   ],
   "source": [
    "# plot of default parameters\n",
    "plt.bar(range(len(params)),np.log(abs(params)))#np.log(params))\n",
    "plt.axis([-1, 14, -4, 8])\n",
    "plt.xlabel('parameter index')\n",
    "plt.ylabel('log(abs(parameters))')\n",
    "plt.title('Log of Parameter Magnitude, Default')\n",
    "#plt.savefig('figures_8_29/fig1_params_default.svg')\n",
    "plt.show()\n",
    "\n",
    "# generate example perturbed parameters\n",
    "rand_percent_vec = 0.5\n",
    "k = 12\n",
    "params_perturb = params\n",
    "log_params_perturbed = np.log(abs(params_perturb))\n",
    "log_params_perturbed[k] = rand_percent_vec*log_params_perturbed[k]\n",
    "plt.bar(range(len(params)),log_params_perturbed)\n",
    "plt.axis([-1, 14, -4, 8])\n",
    "plt.xlabel('parameter index')\n",
    "plt.ylabel('log(abs(parameters))')\n",
    "plt.title('Log of Parameter Magnitude, Perturbed')\n",
    "#plt.savefig('figures_8_29/fig1_params_perturb.svg')\n",
    "plt.show()"
   ]
  },
  {
   "cell_type": "markdown",
   "id": "cdd1fb29",
   "metadata": {},
   "source": [
    "## Finally, generate the model states under perturbed parameters \n",
    "Here we vary parameters by a fixed amount and show the changes that occur to the model states, as represented at each time point by $R \\cos(\\psi)$ where $R$ is the model amplitude and $\\psi$ is the model phase. \n",
    "\n",
    "In later figures we will perform one-at-a-time parameter variations more systematically, but for the example methods figure here, we simply vary each parameter once and show the resulting changes to the model states. "
   ]
  },
  {
   "cell_type": "code",
   "execution_count": null,
   "id": "df394019",
   "metadata": {},
   "outputs": [],
   "source": [
    "# get stored initial conditions, generated in ics_generate.ipynb\n",
    "%store -r ics_rl\n",
    "%store -r ics_sw\n",
    "%store -r ics_sw312\n",
    "%store -r ics_sjl\n",
    "%store -r ics_ss\n",
    "%store -r ics_dark\n",
    "\n",
    "num_iter = 1\n",
    "\n",
    "for j in range(len(params)):\n",
    "    \n",
    "    for m in range(num_iter):\n",
    "        \n",
    "        # perturb the parameters\n",
    "        rand_percent_vec = 0.8+m*0.05\n",
    "        params_perturb = params\n",
    "        params_perturb = params_perturb.at[j].set(params[j]*rand_percent_vec)\n",
    "        \n",
    "        # generate perturbed model states \n",
    "        model_states_all_new_rl = sens.step_all_n(ics_rl, lights_rl, params_perturb, 0.10)\n",
    "        plt.plot(ts/24,model_states_all_new_rl[:,0]*np.cos(model_states_all_new_rl[:,1]),'k',label = 'RL', alpha = 0.2)\n",
    "        \n",
    "        \n",
    "       \n",
    "        \n",
    "model_states_all_rl = sens.step_all_n(ics_rl, lights_rl, params, 0.10)\n",
    "plt.plot(ts/24,model_states_all_rl[:,0]*np.cos(model_states_all_new_rl[:,1]),'b',label = 'RL')\n",
    "plt.xlabel('day')\n",
    "plt.ylabel('Rcos(psi)')\n",
    "plt.title('Model states, default and perturbed parameters')\n",
    "#plt.savefig('figures_8_29/fig1_outputs_ex.svg')\n",
    "plt.show()"
   ]
  },
  {
   "cell_type": "markdown",
   "id": "1c59a24f",
   "metadata": {},
   "source": [
    "Parameters are shown for the regular light schedule over 7 days, as an example of the methology. Default parameters are given in blue, and perturbed parameter in gray. "
   ]
  },
  {
   "cell_type": "code",
   "execution_count": null,
   "id": "95ab48ca",
   "metadata": {},
   "outputs": [],
   "source": []
  }
 ],
 "metadata": {
  "kernelspec": {
   "display_name": "Python 3",
   "language": "python",
   "name": "python3"
  },
  "language_info": {
   "codemirror_mode": {
    "name": "ipython",
    "version": 3
   },
   "file_extension": ".py",
   "mimetype": "text/x-python",
   "name": "python",
   "nbconvert_exporter": "python",
   "pygments_lexer": "ipython3",
   "version": "3.8.8"
  }
 },
 "nbformat": 4,
 "nbformat_minor": 5
}
