{
 "cells": [
  {
   "cell_type": "markdown",
   "id": "780d3af4",
   "metadata": {},
   "source": [
    "## Generate real data examples (previously figure 4), for the sensitivity analysis manuscript \n",
    "We apply the hessian-based sensitivity analysis method to examples of real wearable data. Using rescaled activity in place of light, we generate hessian matrices for real individuals and examine their overall sensitivity and individual parameter sensitivity. \n",
    "\n",
    "This figure conists of two main components. First, we compute the principal eigenvector of the hessian matrices and plot these for the three subjects of interest. Next, we compute a heatmap figure where we compare the prinicipal eigenvector of the real data examples with those from the six synthetic light schedules. "
   ]
  },
  {
   "cell_type": "code",
   "execution_count": 8,
   "id": "aac103cb",
   "metadata": {},
   "outputs": [],
   "source": [
    "from copy import deepcopy\n",
    "import numpy as np\n",
    "import matplotlib.pyplot as plt\n",
    "from jax import grad, jit, jacfwd, jacrev\n",
    "import jax.numpy as jnp\n",
    "import pandas as pd \n",
    "import os \n",
    "import csv\n",
    "import seaborn as sns\n",
    "\n",
    "# import the needed modules \n",
    "from hessian_normalized import HessianCircadian\n",
    "\n",
    "sens=HessianCircadian()\n",
    "params = sens.get_parameters_array()\n",
    "\n",
    "figure_save == 'off'\n",
    "\n",
    "# function for generating initial conditions \n",
    "def ics_individual_schedules(final_state_diff, convergence_val, ics, lights, params):\n",
    "    u0 = ics\n",
    "    count = 0\n",
    "    while final_state_diff > convergence_val and count < 50:\n",
    "\n",
    "        # simulate the model and extract the final time as the initial condition\n",
    "        count = count + 1\n",
    "        statesfinal = sens.step_n(u0 = u0, light = lights, params = params, dt = 0.10) # final state value\n",
    "        final_state_diff = abs(statesfinal[0] - u0[0]) + abs(np.mod(statesfinal[1] - u0[1] + np.pi,2*np.pi) - np.pi)\n",
    "        #print(final_state_diff)\n",
    "        u0 = statesfinal\n",
    "    return u0\n",
    "\n",
    "# generate the initial conditions for the individual schedules \n",
    "convergence_val = 10**(-3)\n",
    "final_state_diff = 100"
   ]
  },
  {
   "cell_type": "markdown",
   "id": "5dd35b2c",
   "metadata": {},
   "source": [
    "Next we read in the real data and run the activity schedules in order to generate individual hessian matrices. Note that to do this we generate new initial conditions for each of the individuals, and we use rescaled activity in place of light. \n",
    "\n",
    "Change the parameters at the beginning of this cell to look at additional data examples, numbers of days, etc. "
   ]
  },
  {
   "cell_type": "code",
   "execution_count": 9,
   "id": "6bdaefbb",
   "metadata": {},
   "outputs": [
    {
     "name": "stdout",
     "output_type": "stream",
     "text": [
      "1\n",
      "2\n",
      "3\n",
      "4\n",
      "5\n",
      "6\n",
      "7\n",
      "8\n",
      "9\n",
      "10\n"
     ]
    }
   ],
   "source": [
    "# filepath where real data is stored \n",
    "filepath = \"/Users/calebmayer/Documents/MATLAB/Examples/matlab/ArrayIndexingGSExample/covid/data_s\"\n",
    "\n",
    "# define parameters \n",
    "count = 0\n",
    "num_subjects = 10\n",
    "start_pt = 1\n",
    "num_days = 7\n",
    "convergence_val = 10**(-3)\n",
    "final_state_diff = 100\n",
    "ics = jnp.array([0.70,0.0,0.0])\n",
    "activity_scaling_factor = 1\n",
    "dt = 0.1\n",
    "\n",
    "# initialize record/list of hessian matrices \n",
    "hessianVal_rl = []\n",
    "\n",
    "# iterate through the selected files \n",
    "for j in range(start_pt, start_pt + num_subjects):\n",
    "    \n",
    "    filename = os.listdir(filepath)[j] # num_subjects files for now--take the steps ones \n",
    "    print(j)\n",
    "    \n",
    "    if 'steps' in filename:\n",
    "\n",
    "        data = pd.read_csv(filepath + '/' + filename)\n",
    "        data_np = pd.DataFrame.to_numpy(data)\n",
    "        \n",
    "        # convert time to hours \n",
    "        data_np[:,0] = data_np[:,0] - data_np[0,0]\n",
    "        data_np[:,0] = data_np[:,0]*24\n",
    "\n",
    "        ts = data_np[:,0]\n",
    "        lights = data_np[:,1]\n",
    "        lights = lights[ts < num_days*24]\n",
    "        ts = ts[ts < num_days*24]\n",
    "        \n",
    "        # resample the data \n",
    "        ts_new = np.arange(ts[0], ts[-1], dt)\n",
    "        lights_new = np.zeros([len(ts_new)])\n",
    "        \n",
    "        for m in range(len(ts_new)-1):\n",
    "            \n",
    "            index1 = ts > ts_new[m]\n",
    "            index2 = ts <= ts_new[m+1]\n",
    "            index = np.logical_and(index1,index2) \n",
    "            light_vals = lights[index]\n",
    "            lights_new[m] = np.sum(light_vals)*activity_scaling_factor # adjust this as needed\n",
    "            \n",
    "        # generate new initial conditions for each individual \n",
    "        ics_looped = ics_individual_schedules(final_state_diff, convergence_val, ics, lights_new, params)\n",
    "        \n",
    "        # apply the hessian method to the rescaled activity data and new ics \n",
    "        hessianVal_rl.append(sens.normalized_hessian(u0 = ics_looped, light=lights_new)) # use ending value as new initial condition \n",
    "        count = count+1"
   ]
  },
  {
   "cell_type": "markdown",
   "id": "3d809b47",
   "metadata": {},
   "source": [
    "## Generate bar plots of the principal eigenvectors\n",
    "Here we compute the principal eigenvectors of the hessian matrix for selected example subjects, and plot the results. "
   ]
  },
  {
   "cell_type": "code",
   "execution_count": 10,
   "id": "122094c9",
   "metadata": {},
   "outputs": [
    {
     "name": "stdout",
     "output_type": "stream",
     "text": [
      "Overall sensitivity of the example individuals are given by\n",
      "340.01947\n",
      "293.45334\n",
      "504.47314\n"
     ]
    },
    {
     "data": {
      "image/png": "[encoded data removed]",
      "text/plain": [
       "<Figure size 432x288 with 1 Axes>"
      ]
     },
     "metadata": {
      "needs_background": "light"
     },
     "output_type": "display_data"
    },
    {
     "data": {
      "image/png": "[encoded data removed]",
      "text/plain": [
       "<Figure size 432x288 with 1 Axes>"
      ]
     },
     "metadata": {
      "needs_background": "light"
     },
     "output_type": "display_data"
    },
    {
     "data": {
      "image/png": "[encoded data removed]",
      "text/plain": [
       "<Figure size 432x288 with 1 Axes>"
      ]
     },
     "metadata": {
      "needs_background": "light"
     },
     "output_type": "display_data"
    }
   ],
   "source": [
    "# choose the example subjects \n",
    "ind1 = 0\n",
    "ind2 = 1\n",
    "ind3 = 2\n",
    "\n",
    "# compute the frobenius norm of the hessian, as an overall sensitivity metric \n",
    "print('Overall sensitivity of the example individuals are given by')\n",
    "print(np.linalg.norm(hessianVal_rl[ind1]))\n",
    "print(np.linalg.norm(hessianVal_rl[ind2]))\n",
    "print(np.linalg.norm(hessianVal_rl[ind3]))\n",
    "\n",
    "# find the principal eigenvector for the three example individuals \n",
    "evals, evecs = np.linalg.eig(hessianVal_rl[ind1])\n",
    "evec1 = abs(evecs[:,np.argmax(evals)])\n",
    "plt.bar(range(len(evecs)),abs(evecs[:,np.argmax(evals)]))\n",
    "plt.title('Mishra et al., subject %i' % ind1)\n",
    "plt.ylabel('magnitude')\n",
    "plt.xlabel('component')\n",
    "if figure_save == 'on':\n",
    "    plt.savefig('figures_8_29/real_data_ex0.svg')\n",
    "plt.show()\n",
    "\n",
    "evals, evecs = np.linalg.eig(hessianVal_rl[ind2])\n",
    "evec2 = abs(evecs[:,np.argmax(evals)])\n",
    "plt.bar(range(len(evecs)),abs(evecs[:,np.argmax(evals)]))\n",
    "plt.title('Mishra et al., subject %i' % ind2)\n",
    "plt.ylabel('magnitude')\n",
    "plt.xlabel('component')\n",
    "if figure_save == 'on':\n",
    "    plt.savefig('figures_8_29/real_data_ex1.svg')\n",
    "plt.show()\n",
    "\n",
    "evals, evecs = np.linalg.eig(hessianVal_rl[ind3])\n",
    "evec3 = abs(evecs[:,np.argmax(evals)])\n",
    "plt.bar(range(len(evecs)),abs(evecs[:,np.argmax(evals)]))\n",
    "plt.title('Mishra et al., subject %i' % ind3)\n",
    "plt.ylabel('magnitude')\n",
    "plt.xlabel('component')\n",
    "if figure_save == 'on':\n",
    "    plt.savefig('figures_8_29/real_data_ex2.svg')\n",
    "plt.show()\n"
   ]
  },
  {
   "cell_type": "markdown",
   "id": "840fc089",
   "metadata": {},
   "source": [
    "We print the Frobenius norm of the hessian (overall sensitivity) metrics for the example schedules, and then plot the principal eigenvector for the selected examples. As with the synthetic light schedules previously studied, we observe that the first component of the prinicipal eigenvector is much larger in magnitude than the rest. "
   ]
  },
  {
   "cell_type": "markdown",
   "id": "710166e5",
   "metadata": {},
   "source": [
    "## Generate heatmap eigenvector comparison figure \n",
    "Here we compare the principal eigenvectors of the six synthetic schedules with those from the example schedules via a normalized dot product, and display the results in a heatmap.  "
   ]
  },
  {
   "cell_type": "code",
   "execution_count": 11,
   "id": "d490ba27",
   "metadata": {},
   "outputs": [
    {
     "data": {
      "text/plain": [
       "[Text(0, 0.5, 'Ex. 1'), Text(0, 1.5, 'Ex. 2'), Text(0, 2.5, 'Ex. 3')]"
      ]
     },
     "execution_count": 11,
     "metadata": {},
     "output_type": "execute_result"
    },
    {
     "data": {
      "image/png": "[encoded data removed]",
      "text/plain": [
       "<Figure size 432x288 with 2 Axes>"
      ]
     },
     "metadata": {
      "needs_background": "light"
     },
     "output_type": "display_data"
    }
   ],
   "source": [
    "# read in the stored eigenvalues, from clean_figure2.ipynb\n",
    "%store -r evecs_rl\n",
    "%store -r evecs_sw\n",
    "%store -r evecs_sw312\n",
    "%store -r evecs_sjl\n",
    "%store -r evecs_ss\n",
    "%store -r evecs_dark\n",
    "\n",
    "num_schedules = 6\n",
    "num_examples = 3\n",
    "\n",
    "# compute the dot product between principal eigenvectors of real and synthetic schedules \n",
    "dot_mat_subject_all = np.zeros([num_examples,num_schedules])\n",
    "dot_mat_subject_all[0,0] = np.dot(np.abs(evec1),np.abs(evecs_rl))\n",
    "dot_mat_subject_all[0,1] = np.dot(np.abs(evec1),np.abs(evecs_sw))\n",
    "dot_mat_subject_all[0,2] = np.dot(np.abs(evec1),np.abs(evecs_sw312))\n",
    "dot_mat_subject_all[0,3] = np.dot(np.abs(evec1),np.abs(evecs_sjl))\n",
    "dot_mat_subject_all[0,4] = np.dot(np.abs(evec1),np.abs(evecs_ss))\n",
    "dot_mat_subject_all[0,5] = np.dot(np.abs(evec1),np.abs(evecs_dark))\n",
    "\n",
    "dot_mat_subject_all[1,0] = np.dot(np.abs(evec2),np.abs(evecs_rl))\n",
    "dot_mat_subject_all[1,1] = np.dot(np.abs(evec2),np.abs(evecs_sw))\n",
    "dot_mat_subject_all[1,2] = np.dot(np.abs(evec2),np.abs(evecs_sw312))\n",
    "dot_mat_subject_all[1,3] = np.dot(np.abs(evec2),np.abs(evecs_sjl))\n",
    "dot_mat_subject_all[1,4] = np.dot(np.abs(evec2),np.abs(evecs_ss))\n",
    "dot_mat_subject_all[1,5] = np.dot(np.abs(evec2),np.abs(evecs_dark))\n",
    "\n",
    "dot_mat_subject_all[2,0] = np.dot(np.abs(evec3),np.abs(evecs_rl))\n",
    "dot_mat_subject_all[2,1] = np.dot(np.abs(evec3),np.abs(evecs_sw))\n",
    "dot_mat_subject_all[2,2] = np.dot(np.abs(evec3),np.abs(evecs_sw312))\n",
    "dot_mat_subject_all[2,3] = np.dot(np.abs(evec3),np.abs(evecs_sjl))\n",
    "dot_mat_subject_all[2,4] = np.dot(np.abs(evec3),np.abs(evecs_ss))\n",
    "dot_mat_subject_all[2,5] = np.dot(np.abs(evec3),np.abs(evecs_dark))\n",
    "\n",
    "# generate the normalized heatmap figure \n",
    "dot_mat_subject_all_norm = (dot_mat_subject_all - np.mean(dot_mat_subject_all))/np.std(dot_mat_subject_all)\n",
    "ax = sns.heatmap(dot_mat_subject_all_norm, annot = True)\n",
    "ax.set_xticklabels(['RL','SW','SW312','SJL','SS','Dark'])\n",
    "ax.set_yticklabels(['Ex. 1', 'Ex. 2', 'Ex. 3'])\n",
    "if figure_save == 'on':\n",
    "    plt.savefig('figures_8_29/real_data_heatmap_normalized.svg')"
   ]
  },
  {
   "cell_type": "markdown",
   "id": "3eda409b",
   "metadata": {},
   "source": [
    "The heatmap figure above should give similarity measurements between the principal eigenvectors of the synthetic light schedules and the real light schedule examples. We see high similarity with the regular light schedule (for 2/3 examples at least), the social jet lag schedule, and the constant darkness schedule. Lower similarities occur for the two shift work schedules. \n",
    "\n",
    "Note that this result will depend to some degree on the activity scaling factor we use, to convert the activity data to a measurement that is more similar to light. Change the activity_scaling_factor parameter to see how the results are altered. "
   ]
  },
  {
   "cell_type": "code",
   "execution_count": null,
   "id": "1ebfad0d",
   "metadata": {},
   "outputs": [],
   "source": []
  }
 ],
 "metadata": {
  "kernelspec": {
   "display_name": "Python 3",
   "language": "python",
   "name": "python3"
  },
  "language_info": {
   "codemirror_mode": {
    "name": "ipython",
    "version": 3
   },
   "file_extension": ".py",
   "mimetype": "text/x-python",
   "name": "python",
   "nbconvert_exporter": "python",
   "pygments_lexer": "ipython3",
   "version": "3.8.8"
  }
 },
 "nbformat": 4,
 "nbformat_minor": 5
}
