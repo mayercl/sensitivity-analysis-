{
 "cells": [
  {
   "cell_type": "markdown",
   "id": "8cb62c4a",
   "metadata": {},
   "source": [
    "## Generate Figure 5, for the sensitivity analysis manuscript\n",
    "Here we generate the parameter recovery figure for the sensitivity analysis manuscript. \n",
    "\n",
    "This figure consists of three main components: a heatmap displaying the ability to recover each given parameter and light schedule pair, three example figures of recovery error for given parameter and light schedule pairs, and a bar plot with an overall summary of the recovery error for each parameter. We generate results and plots for each of these figure components in the sections below. "
   ]
  },
  {
   "cell_type": "code",
   "execution_count": 1,
   "id": "915384da",
   "metadata": {},
   "outputs": [],
   "source": [
    "from copy import deepcopy\n",
    "import numpy as np\n",
    "import matplotlib.pyplot as plt\n",
    "from jax import grad, jit, jacfwd, jacrev\n",
    "import jax.numpy as jnp\n",
    "\n",
    "# import the needed modules \n",
    "from hessian_normalized import HessianCircadian\n",
    "from hessian_normalized import ParameterRecovery\n",
    "\n",
    "from lightschedules import RegularLight\n",
    "from lightschedules import ShiftWorkLight\n",
    "from lightschedules import ShiftWorkerThreeTwelves\n",
    "from lightschedules import SocialJetLag\n",
    "from lightschedules import SlamShift\n",
    "\n",
    "sens=HessianCircadian()\n",
    "recov = ParameterRecovery()\n",
    "params = sens.get_parameters_array()\n",
    "\n",
    "figure_save = 'off'\n",
    "\n",
    "# define the light schedules \n",
    "ndays = 7\n",
    "intensity = 979\n",
    "dt = 0.1\n",
    "ts=np.arange(0, 24*ndays, dt)\n",
    "lights_rl = jnp.array([RegularLight(t, Intensity = intensity) for t in ts ]) # define the light schedules \n",
    "lights_sw = jnp.array([ShiftWorkLight(t,Intensity = intensity) for t in ts ])\n",
    "lights_sw312 = jnp.array([ShiftWorkerThreeTwelves(t,Intensity = intensity) for t in ts ])\n",
    "lights_sjl = jnp.array([SocialJetLag(t,Intensity = intensity) for t in ts ])\n",
    "lights_ss = jnp.array([SlamShift(t,Intensity = intensity) for t in ts ])\n",
    "lights_dark = jnp.zeros([len(ts),])"
   ]
  },
  {
   "cell_type": "markdown",
   "id": "46ba9c6c",
   "metadata": {},
   "source": [
    "Read in the initial conditions and parameter distribution results from MCMC run of the model. "
   ]
  },
  {
   "cell_type": "code",
   "execution_count": 2,
   "id": "f33a4b9a",
   "metadata": {},
   "outputs": [],
   "source": [
    "# get stored initial conditions, generated in ics_generate.ipynb\n",
    "%store -r ics_rl\n",
    "%store -r ics_sw\n",
    "%store -r ics_sw312\n",
    "%store -r ics_sjl\n",
    "%store -r ics_ss\n",
    "%store -r ics_dark\n",
    "\n",
    "# read in the mcmc results \n",
    "import pandas as pd\n",
    "\n",
    "# read in the data \n",
    "mcmc_runs = pd.read_csv('mcmc_new_run.tsv', header = None, delimiter = '\\t').to_numpy()\n",
    "# list: tau, K, gamma, A1, A2, BetaL1, BetaL2, sigma, p, I0, alpha0, Beta1, ent_angle, cost, dd_period\n",
    "mcmc_param_list = [\"tau\", \"K\", \"gamma\",\"A1\", \"A2\", \"BetaL1\", \"BetaL2\", \"sigma\", \"p_fixed\", \"I0_fixed\", \"alpha_0_fixed\", \"Beta1\", \"ent_angle\", \"cost\", \"dd_period\"]\n",
    "model_param_list = [\"tau\", \"K\", \"gamma\", \"Beta1\", \"A1\", \"A2\", \"BetaL1\", \"BetaL2\", \"sigma\", \"G\", \"alpha_0\", \"delta\", \"p\", \"I0\"]"
   ]
  },
  {
   "cell_type": "markdown",
   "id": "0722ee77",
   "metadata": {},
   "source": [
    "Generate the model states with default parameters and noisy light. \n",
    "\n",
    "We add in noise from a normal distribution with mean $\\mu$ and standard deviation $\\sigma$: see hessian_normalized.py for more details. Using this adjusted light schedule, we compute the resulting model states for each of the six individual light schedules. "
   ]
  },
  {
   "cell_type": "code",
   "execution_count": 3,
   "id": "a5003d68",
   "metadata": {},
   "outputs": [],
   "source": [
    "# parameters to define noisy light \n",
    "mu = 0\n",
    "sigma = 100\n",
    "\n",
    "states_rl_noisy_light = recov.noisy_light(mu, sigma, lights_rl, ts)\n",
    "states_sw_noisy_light = recov.noisy_light(mu, sigma, lights_sw, ts)\n",
    "states_sw312_noisy_light = recov.noisy_light(mu, sigma, lights_sw312, ts)\n",
    "states_ss_noisy_light = recov.noisy_light(mu, sigma, lights_ss, ts)\n",
    "states_sjl_noisy_light = recov.noisy_light(mu, sigma, lights_sjl, ts)\n",
    "states_dark_noisy_light = recov.noisy_light(mu, sigma, lights_dark, ts)"
   ]
  },
  {
   "cell_type": "markdown",
   "id": "74075905",
   "metadata": {},
   "source": [
    "Generate the model states with perturbed parameters and non-noisy light. \n",
    "\n",
    "For each parameter value, we iterate through num_iter values of the parameter. The parameter values that we chose are based on percentiles of the (shifted) distribution from the MCMC runs, when available. If not we take percentages of the default parameter value. \n",
    "\n",
    "While running this analysis, we determine the model states given the perturbed parameter. We then store the norm difference between the model states with the noisy light schedule + default parameter and the model states with the non-noisy light schedule + perturbed parameters."
   ]
  },
  {
   "cell_type": "code",
   "execution_count": 4,
   "id": "1cfe3268",
   "metadata": {},
   "outputs": [
    {
     "name": "stdout",
     "output_type": "stream",
     "text": [
      "0\n",
      "1\n",
      "2\n",
      "3\n",
      "4\n",
      "5\n",
      "6\n",
      "7\n",
      "8\n",
      "9\n",
      "10\n",
      "11\n",
      "12\n",
      "13\n"
     ]
    }
   ],
   "source": [
    "num_iter = 20\n",
    "\n",
    "# initialize the results \n",
    "state_diff_rl = np.zeros([num_iter, len(params)])\n",
    "state_diff_sw = np.zeros([num_iter, len(params)])\n",
    "state_diff_sw312 = np.zeros([num_iter, len(params)])\n",
    "state_diff_ss = np.zeros([num_iter, len(params)])\n",
    "state_diff_sjl = np.zeros([num_iter, len(params)])\n",
    "state_diff_dark = np.zeros([num_iter, len(params)])\n",
    "\n",
    "# loop through the parameters and iterations \n",
    "for j in range(len(params)):\n",
    "    \n",
    "    print(j)\n",
    "    \n",
    "    for m in range(num_iter):\n",
    "        \n",
    "        param_name = model_param_list[j]\n",
    "        rand_percent_vec = 0.96+(m-1)*0.005 #0.96+m*0.01\n",
    "        params_perturb = params\n",
    "        \n",
    "        if param_name in mcmc_param_list: \n",
    "            \n",
    "            index = mcmc_param_list.index(param_name)\n",
    "            med_val = np.quantile(mcmc_runs[:,index],0.50) \n",
    "            def_val = params[j] \n",
    "            shift = med_val - def_val\n",
    "            params_perturb = params_perturb.at[j].set(np.quantile(mcmc_runs[:,index],(m+1)/num_iter) - shift) # simplify\n",
    "            \n",
    "        else:\n",
    "            \n",
    "            params_perturb = params_perturb.at[j].set(params[j]*rand_percent_vec)\n",
    "        \n",
    "        states_rl_params = recov.perturbed_params(ics_rl, params_perturb, lights_rl, ts)\n",
    "        states_sw_params = recov.perturbed_params(ics_sw, params_perturb, lights_sw, ts)\n",
    "        states_sw312_params = recov.perturbed_params(ics_sw312, params_perturb, lights_sw312, ts)\n",
    "        states_ss_params = recov.perturbed_params(ics_ss, params_perturb, lights_ss, ts)\n",
    "        states_sjl_params = recov.perturbed_params(ics_sjl, params_perturb, lights_sjl, ts)\n",
    "        states_dark_params = recov.perturbed_params(ics_dark, params_perturb, lights_dark, ts)\n",
    "        state_diff_rl[m,j] = recov.loss_recovery(states_rl_noisy_light, states_rl_params,ts)\n",
    "        state_diff_sw[m,j] = recov.loss_recovery(states_sw_noisy_light, states_sw_params,ts)\n",
    "        state_diff_sw312[m,j] = recov.loss_recovery(states_sw312_noisy_light, states_sw312_params,ts)\n",
    "        state_diff_ss[m,j] = recov.loss_recovery(states_ss_noisy_light, states_ss_params,ts)\n",
    "        state_diff_sjl[m,j] = recov.loss_recovery(states_sjl_noisy_light, states_sjl_params,ts)\n",
    "        state_diff_dark[m,j] = recov.loss_recovery(states_dark_noisy_light, states_dark_params,ts)\n"
   ]
  },
  {
   "cell_type": "markdown",
   "id": "c8be6023",
   "metadata": {},
   "source": [
    "## Generate heatmap figure \n",
    "Next we generate a figure where we plot the difference in index between that of the minimum recovery error and what should be the minimum recovery error, for each parameter and light schedule combination. Note that index 0 signifies perfect recovery. "
   ]
  },
  {
   "cell_type": "code",
   "execution_count": 10,
   "id": "a9ee032b",
   "metadata": {},
   "outputs": [
    {
     "data": {
      "image/png": "[encoded data removed]",
      "text/plain": [
       "<Figure size 432x288 with 2 Axes>"
      ]
     },
     "metadata": {
      "needs_background": "light"
     },
     "output_type": "display_data"
    }
   ],
   "source": [
    "import seaborn as sns \n",
    "num_schedules = 6\n",
    "\n",
    "# generate the heatmap\n",
    "heatmap_v1 = np.zeros([num_schedules,len(params)])\n",
    "heatmap_v1[0,:] = np.nanargmin(state_diff_rl, axis = 0) # check the axis\n",
    "heatmap_v1[1,:] = np.nanargmin(state_diff_sw, axis = 0)\n",
    "heatmap_v1[2,:] = np.nanargmin(state_diff_sw312, axis = 0)\n",
    "heatmap_v1[3,:] = np.nanargmin(state_diff_sjl, axis = 0)\n",
    "heatmap_v1[4,:] = np.nanargmin(state_diff_ss, axis = 0)\n",
    "heatmap_v1[5,:] = np.nanargmin(state_diff_dark, axis = 0)\n",
    "heatmap_v1 = abs(heatmap_v1 - 9)\n",
    "\n",
    "sns.heatmap(heatmap_v1)\n",
    "if figure_save == 'on':\n",
    "    plt.savefig('figures_8_29/param_recov_hm1_v4.svg')"
   ]
  },
  {
   "cell_type": "markdown",
   "id": "c1b673bd",
   "metadata": {},
   "source": [
    "## Generate example recovery error plots \n",
    "Here we plot three example plots of recovery errors for given light schedule and parameter combinations. \n",
    "\n",
    "Specifically, we plot the recovery error for $\\tau$ under a real light schedule, for $K$ under the shift work light schedule, and for $\\alpha_0$ under the shift work three twelve's light schedule. Change the state_diff_ value to change the light schedule, and change the indices to change the parameters. "
   ]
  },
  {
   "cell_type": "code",
   "execution_count": 18,
   "id": "f91768b4",
   "metadata": {},
   "outputs": [
    {
     "data": {
      "image/png": "[encoded data removed]",
      "text/plain": [
       "<Figure size 432x288 with 1 Axes>"
      ]
     },
     "metadata": {
      "needs_background": "light"
     },
     "output_type": "display_data"
    },
    {
     "data": {
      "image/png": "[encoded data removed]",
      "text/plain": [
       "<Figure size 432x288 with 1 Axes>"
      ]
     },
     "metadata": {
      "needs_background": "light"
     },
     "output_type": "display_data"
    },
    {
     "data": {
      "image/png": "[encoded data removed]",
      "text/plain": [
       "<Figure size 432x288 with 1 Axes>"
      ]
     },
     "metadata": {
      "needs_background": "light"
     },
     "output_type": "display_data"
    }
   ],
   "source": [
    "# choose the three parameters to examine \n",
    "index1 = 0 # tau\n",
    "index2 = 1 # K\n",
    "index3 = 10 # alpha_0\n",
    "\n",
    "# generate the example figures \n",
    "x_vals = np.linspace(1/num_iter, 1, num_iter)\n",
    "plt.plot(x_vals,state_diff_rl[:,index1])\n",
    "plt.xlabel('percentile')\n",
    "plt.ylabel('recovery error')\n",
    "if figure_save == 'on':\n",
    "    plt.savefig('figures_8_29/rl_tau_recov_err_v4.svg')\n",
    "plt.show()\n",
    "\n",
    "plt.plot(x_vals,state_diff_sw[:,index2])\n",
    "plt.xlabel('percentile')\n",
    "plt.ylabel('recovery error')\n",
    "if figure_save == 'on':\n",
    "    plt.savefig('figures_8_29/sw_k_recov_err_v4.svg')\n",
    "plt.show()\n",
    "\n",
    "plt.plot(x_vals,state_diff_sw312[:,index3])\n",
    "plt.xlabel('percentile')\n",
    "plt.ylabel('recovery error')\n",
    "if figure_save == 'on':\n",
    "    plt.savefig('figures_8_29/sw_alph_recov_err_v4.svg')\n",
    "plt.show()"
   ]
  },
  {
   "cell_type": "markdown",
   "id": "6a3dba36",
   "metadata": {},
   "source": [
    "Finally, we generate the average recovery error for each parameter. Here we average across light schedules and parameter perturbations. "
   ]
  },
  {
   "cell_type": "code",
   "execution_count": 34,
   "id": "3b95c2b2",
   "metadata": {},
   "outputs": [
    {
     "data": {
      "image/png": "[encoded data removed]",
      "text/plain": [
       "<Figure size 432x288 with 1 Axes>"
      ]
     },
     "metadata": {
      "needs_background": "light"
     },
     "output_type": "display_data"
    }
   ],
   "source": [
    "# generate the average recovery error for each parameter \n",
    "combined_state_diff = np.concatenate((state_diff_rl, state_diff_sw, state_diff_sw312, state_diff_sjl, state_diff_ss, state_diff_dark))\n",
    "plt.bar(range(len(params)), np.mean(combined_state_diff, axis = 0))\n",
    "plt.xlabel('parameter')\n",
    "plt.ylabel('mean recovery error')\n",
    "if figure_save == 'on':\n",
    "    plt.savefig('figures_8_29/mean_recov_err_param_v4.svg')\n",
    "plt.show()"
   ]
  },
  {
   "cell_type": "code",
   "execution_count": null,
   "id": "86581070",
   "metadata": {},
   "outputs": [],
   "source": []
  }
 ],
 "metadata": {
  "kernelspec": {
   "display_name": "Python 3",
   "language": "python",
   "name": "python3"
  },
  "language_info": {
   "codemirror_mode": {
    "name": "ipython",
    "version": 3
   },
   "file_extension": ".py",
   "mimetype": "text/x-python",
   "name": "python",
   "nbconvert_exporter": "python",
   "pygments_lexer": "ipython3",
   "version": "3.8.8"
  }
 },
 "nbformat": 4,
 "nbformat_minor": 5
}
